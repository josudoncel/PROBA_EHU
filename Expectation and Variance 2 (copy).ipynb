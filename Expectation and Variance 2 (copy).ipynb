{
 "cells": [
  {
   "cell_type": "markdown",
   "metadata": {},
   "source": [
    "# Objetive\n",
    "\n",
    "\n",
    "We have seen the expectation in the 4th lesson and the variance in the 5th lesson. Now. we will see how they are related with the notion of mean and variance of Descriptive Statistics.\n",
    "\n",
    "## Example: Roll a dice"
   ]
  },
  {
   "cell_type": "code",
   "execution_count": 1,
   "metadata": {},
   "outputs": [
    {
     "name": "stdout",
     "output_type": "stream",
     "text": [
      " [1] 1 5 3 2 4 1 2 1 3 5\n"
     ]
    }
   ],
   "source": [
    "# with the command sample we get n numbers (from one to six)\n",
    "n<-10\n",
    "v<-sample(6,n, replace=T)\n",
    "print(v)"
   ]
  },
  {
   "cell_type": "code",
   "execution_count": 2,
   "metadata": {},
   "outputs": [
    {
     "name": "stdout",
     "output_type": "stream",
     "text": [
      " [1] 5 3 6 2 6 4 6 3 4 1\n"
     ]
    }
   ],
   "source": [
    "# What we got above simulates the outcome when we roll a dice 10 times. We proceed again\n",
    "\n",
    "v2<-sample(6,n, replace=T)\n",
    "print(v2)"
   ]
  },
  {
   "cell_type": "code",
   "execution_count": 3,
   "metadata": {},
   "outputs": [
    {
     "data": {
      "text/html": [
       "2.7"
      ],
      "text/latex": [
       "2.7"
      ],
      "text/markdown": [
       "2.7"
      ],
      "text/plain": [
       "[1] 2.7"
      ]
     },
     "metadata": {},
     "output_type": "display_data"
    },
    {
     "data": {
      "text/html": [
       "4"
      ],
      "text/latex": [
       "4"
      ],
      "text/markdown": [
       "4"
      ],
      "text/plain": [
       "[1] 4"
      ]
     },
     "metadata": {},
     "output_type": "display_data"
    }
   ],
   "source": [
    "# We compute the mean of both vectors\n",
    "mean(v)\n",
    "mean(v2)"
   ]
  },
  {
   "cell_type": "markdown",
   "metadata": {},
   "source": [
    "The above experiments simulate the outcome when we roll a dice several times. We know that the expected value when we roll a dice is 7/2, in fact\n",
    "$$\n",
    "\\mathbb E[X]=\\frac{1}{6}\\cdot 1 +\\frac{1}{6}\\cdot 2 +\\frac{1}{6}\\cdot 3 +\\frac{1}{6}\\cdot 4 +\\frac{1}{6}\\cdot 5 +\\frac{1}{6}\\cdot 6 = \\frac{7}{2}\n",
    "$$\n",
    "\n",
    "Let's take a big n now and compute the sample mean"
   ]
  },
  {
   "cell_type": "code",
   "execution_count": 4,
   "metadata": {},
   "outputs": [
    {
     "data": {
      "text/html": [
       "3.5273"
      ],
      "text/latex": [
       "3.5273"
      ],
      "text/markdown": [
       "3.5273"
      ],
      "text/plain": [
       "[1] 3.5273"
      ]
     },
     "metadata": {},
     "output_type": "display_data"
    }
   ],
   "source": [
    "n<-10000\n",
    "v3<-sample(6,n, replace=T)\n",
    "mean(v3)\n",
    "# it is very colse to 7/2"
   ]
  },
  {
   "cell_type": "code",
   "execution_count": 5,
   "metadata": {},
   "outputs": [
    {
     "data": {
      "text/html": [
       "3.498035"
      ],
      "text/latex": [
       "3.498035"
      ],
      "text/markdown": [
       "3.498035"
      ],
      "text/plain": [
       "[1] 3.498035"
      ]
     },
     "metadata": {},
     "output_type": "display_data"
    }
   ],
   "source": [
    "# We take another sample with the same n\n",
    "v4<-sample(6,n, replace=T)\n",
    "mean(v4)\n",
    "# and we observe that the sample mean is also close to 7/2"
   ]
  },
  {
   "cell_type": "code",
   "execution_count": 6,
   "metadata": {},
   "outputs": [
    {
     "data": {
      "text/html": [
       "3.49997313"
      ],
      "text/latex": [
       "3.49997313"
      ],
      "text/markdown": [
       "3.49997313"
      ],
      "text/plain": [
       "[1] 3.499973"
      ]
     },
     "metadata": {},
     "output_type": "display_data"
    }
   ],
   "source": [
    "# When n tends to infinity, the sample mean tends to E[X]. Therefore \n",
    "n<-100000000\n",
    "v5<-sample(6,n, replace=T)\n",
    "mean(v5)"
   ]
  },
  {
   "cell_type": "markdown",
   "metadata": {},
   "source": [
    "Let's analyze the variance now. First, we compute that variance of the r.v. under consideration (rolling a dice)\n",
    "\\begin{multline*}\n",
    "Var[X]=\\mathbb E[(X-\\mathbb E[X])^2]=\\mathbb E\\left[\\left(X-\\frac{7}{2}\\right)^2 \\right]=\\\\\\frac{1}{6}\\cdot \\left(1-\\frac{7}{2}\\right)^2 +\\frac{1}{6}\\cdot \\left(2-\\frac{7}{2}\\right)^2 +\\frac{1}{6}\\cdot \\left(3-\\frac{7}{2}\\right)^2 +\\frac{1}{6}\\cdot \\left(4-\\frac{7}{2}\\right)^2 +\\frac{1}{6}\\cdot \\left(5-\\frac{7}{2}\\right)^2 +\\frac{1}{6}\\cdot \\left(6-\\frac{7}{2}\\right)^2=\\frac{35}{12}\n",
    "\\end{multline*}"
   ]
  },
  {
   "cell_type": "code",
   "execution_count": 7,
   "metadata": {},
   "outputs": [
    {
     "data": {
      "text/html": [
       "2.8942"
      ],
      "text/latex": [
       "2.8942"
      ],
      "text/markdown": [
       "2.8942"
      ],
      "text/plain": [
       "[1] 2.8942"
      ]
     },
     "metadata": {},
     "output_type": "display_data"
    }
   ],
   "source": [
    "# We will use the big samples (those of big n)\n",
    "EX<-7/2\n",
    "VARIANCE <- mean((v3-EX)^2)\n",
    "VARIANCE\n",
    "# Since 35/12=2.9166, we also get a close value!"
   ]
  },
  {
   "cell_type": "code",
   "execution_count": 8,
   "metadata": {},
   "outputs": [
    {
     "data": {
      "text/html": [
       "2.915942"
      ],
      "text/latex": [
       "2.915942"
      ],
      "text/markdown": [
       "2.915942"
      ],
      "text/plain": [
       "[1] 2.915942"
      ]
     },
     "metadata": {},
     "output_type": "display_data"
    },
    {
     "data": {
      "text/html": [
       "2.91643952"
      ],
      "text/latex": [
       "2.91643952"
      ],
      "text/markdown": [
       "2.91643952"
      ],
      "text/plain": [
       "[1] 2.91644"
      ]
     },
     "metadata": {},
     "output_type": "display_data"
    }
   ],
   "source": [
    "VARIANCE_2 <- mean((v4-EX)^2)\n",
    "VARIANCE_2\n",
    "VARIANCE_3 <- mean((v5-EX)^2)\n",
    "VARIANCE_3\n",
    "# for the other samples as well!"
   ]
  },
  {
   "cell_type": "markdown",
   "metadata": {},
   "source": [
    "## Example: Normal Distribution\n",
    "\n",
    "We have seen in the computer practice part that we can use the command rnorm to obtain a sample of n values that follow the standard normal distribution. As in the example of the dice, we see that the sample expectation and variance is related to the expectation and variance of the r.v."
   ]
  },
  {
   "cell_type": "code",
   "execution_count": 9,
   "metadata": {},
   "outputs": [
    {
     "data": {
      "text/html": [
       "0.000981563887233969"
      ],
      "text/latex": [
       "0.000981563887233969"
      ],
      "text/markdown": [
       "0.000981563887233969"
      ],
      "text/plain": [
       "[1] 0.0009815639"
      ]
     },
     "metadata": {},
     "output_type": "display_data"
    }
   ],
   "source": [
    "n<-100000\n",
    "v6<-rnorm(n)\n",
    "mean(v6)\n",
    "# For the standard normal distribution, we know that E[X]=0. We see that we get a very close value!"
   ]
  },
  {
   "cell_type": "code",
   "execution_count": 10,
   "metadata": {},
   "outputs": [
       {
     "data": {
      "text/html": [
       "1.00250351253565"
      ],
      "text/latex": [
       "1.00250351253565"
      ],
      "text/markdown": [
       "1.00250351253565"
      ],
      "text/plain": [
       "[1] 1.00250351253565"
      ]
     },
     "metadata": {},
     "output_type": "display_data"
    }
   ],
   "source": [
    "# Since Var[X]=1 when X:N(0,1)\n",
    "VARIANCE_4 <- mean((v6-0)^2)\n",
    "VARIANCE_4\n",
    "# it is a close value as well! With a bigger n, we get a closer value!"
   ]
  },
  {
   "cell_type": "code",
   "execution_count": null,
   "metadata": {},
   "outputs": [],
   "source": []
  }
 ],
 "metadata": {
  "kernelspec": {
   "display_name": "R",
   "language": "R",
   "name": "ir"
  },
  "language_info": {
   "codemirror_mode": "r",
   "file_extension": ".r",
   "mimetype": "text/x-r-source",
   "name": "R",
   "pygments_lexer": "r",
   "version": "3.6.3"
  }
 },
 "nbformat": 4,
 "nbformat_minor": 4
}
